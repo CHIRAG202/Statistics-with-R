{
 "cells": [
  {
   "cell_type": "markdown",
   "metadata": {},
   "source": [
    "Hello everyone welcome to the week 1 of our module on Statistics and Mathematics. This week we will have a look basics of Probability and then move to read data and sampling distribution. In week 2 we will read about EDA(Explatory Data Analysis) whiich is an invaluable skill for Data Scientists. "
   ]
  },
  {
   "cell_type": "markdown",
   "metadata": {},
   "source": [
    "# Basic probability"
   ]
  },
  {
   "cell_type": "markdown",
   "metadata": {},
   "source": [
    "Probability is basically **how likely something is to happen.**\n",
    "Whenever we are in doubt about the outcome of an event, we can talk about the probabilities of certain outcomes—how likely they are to happen. The analysis of events governed by probability is called **statistics**. For the same reasons, reading probability becomes important if we have to study Statistics.\n",
    "\n",
    "Mathematically, probability is defined as the ratio of number of favorable outcomes to the total number of possible outcomes. For example, when you flip a coin, there can be two outcomes; it can either be a head or a tail. Suppose you want to find out the probability of getting a head, it will be 1/2 since desirable outcome can happen in one way and total number of possible outcomes are 2 (head and tail). "
   ]
  },
  {
   "cell_type": "markdown",
   "metadata": {},
   "source": [
    "## Basic terms associated with Probability\n",
    "\n",
    "**Experiment:** Experiment or trial is any procedure that can be infinitely repeated\n",
    "\n",
    "**Sample Space:** It is the set containing all possible outcomes of an experiemnt\n",
    "\n",
    "**Event:** A subset of the\n",
    "sample space is defined to be an event. It is to events that probabilities are\n",
    "assigned. \n",
    "\n",
    "\n",
    "**Randomness of an event:** Probability theory is based on the idea of studying random, or chance, outcomes\n",
    "of an experiment. A keyword here is random. Random means the outcomes of\n",
    "the event are not fixed in advanced, and hence when the same experiment is\n",
    "repeated the results will likely be somewhat different, resulting in some\n",
    "variability in the response. Randomness is an essential concept in most of\n",
    "statistics. \n",
    "\n",
    "**Random Variable:** A random variable a function whose values depend on outcomes of a random phenomenon. So if we were to see if it rains today or not, we will assign 1 to the event of rain and 0 to the event of no rain. We write it as P(X) and random variable is often denoted as \"X\". "
   ]
  },
  {
   "cell_type": "markdown",
   "metadata": {},
   "source": [
    "Let us understand the above terminilogies with the help of an example. Suppose you roll a dice then an **experiment** would be to roll a dice. You can roll it one time or n number of times. The **Sample space** of the experiment would be {1,2,3,4,5,6,}. An **event** would be the outcome of 4 on the dice. Probability of this event i.e. P(X=4) will be 1/6. \n",
    "\n",
    "### **Discrete versus Continuous Random Variables**\n",
    "\n",
    "**Discrete random variables** are\n",
    "used when the set of possible outcomes (sample space) for an experiment is\n",
    "countable. For example, people standing in a\n",
    "line, tossing a coin or rolling a dice. \n",
    "\n",
    "A random variable that is not discrete but can assume any value, usually within\n",
    "a defined interval, is defined as a **continuous random variable.**  Examples\n",
    "of experimental outcomes that can be modeled with continuous random\n",
    "variables are: height, weight, amount of rain etc. "
   ]
  },
  {
   "cell_type": "markdown",
   "metadata": {},
   "source": [
    "### Questions to answer:\n",
    "1. Find the proability fo getting 4 on a dice.\n",
    "2. Find the probability of getting a red king on a pack of cards.\n",
    "3. Find the probability of getting an even number on dice.\n",
    "4. Find the probability of getting a number less than 5 when you roll two dice. "
   ]
  },
  {
   "cell_type": "markdown",
   "metadata": {},
   "source": [
    "## Two Schools of Thought in probability\n",
    "\n",
    "**First School of thought** utilizes the most familiar way of thinking about probability is within a framework of\n",
    "repeatable random experiments. In this view the probability of an event is\n",
    "defined as the limiting proportion of times the event would occur given many\n",
    "repetitions. \n",
    "\n",
    "**The second school of thought** allows the incorporation of an\n",
    "investigator’s intuitive reasoning. Instead of exclusively relying on knowledge\n",
    "of the proportion of times an event occurs in repeated sampling, this approach\n",
    "allows the incorporation of subjective knowledge, such as historical information\n",
    "from similar experiments as the one under study, information from experiments\n",
    "related to the one under study, an educated guess about outcomes, or even,\n",
    "subjective beliefs of the investigator related to the problem under study. \n",
    "\n",
    "The common name for this approach is **Bayesian statistics**, named\n",
    "after Sir Thomas Bayes, a nonconformist English minister who lived from 1702-1761. Bayes never published his work in his lifetime, but other mathematicians\n",
    "followed up on his work, resulting in the publication and promotion of his ideas. \n",
    "\n",
    "*Bayesian statistics has experienced explosive growth in recent years, with many\n",
    "applications in areas of science, economics, engineering and other fields. Until\n",
    "recently Bayesian statistics was largely theoretical and mathematically complex.\n",
    "However, powerful computers and software packages such as R are now\n",
    "common and Bayesian statistics theory is now commonly applied in the\n",
    "development of powerful algorithms and models that process data in new ways.\n",
    "Many of these algorithms and models have applications in bioinformatics, and\n",
    "some of these will be introduced in this book.* \n",
    "\n"
   ]
  },
  {
   "cell_type": "markdown",
   "metadata": {},
   "source": [
    "## The Fundamental Rules of Probability \n",
    "\n",
    "There are some fundamental rules associated with probability which do not require any proof and serve as a foundation of the discipline. \n",
    "\n",
    "**1. Probability is always positive**\n",
    "Probability is always positive and the concept of negative probability does not\n",
    "exist. \n",
    "The values of probability of an event A, denoted P (A), must range from\n",
    "zero to one, reflecting the concept of probability as a measure of proportion.\n",
    "\n",
    "For an event to have probability equal to zero, it means the event is impossible.\n",
    "For an event to have probability equal one, it means the event is certain.  \n",
    "\n",
    "**2. For a given sample space, the sum of\n",
    "probabilities is 1**\n",
    "Probability is defined as the expected value of an outcome divided by the sample space and it is logical that when we will find out probability of all the expected events, it will start reflecting the sample space of total events. "
   ]
  },
  {
   "cell_type": "markdown",
   "metadata": {},
   "source": [
    "## Permutation and combination"
   ]
  },
  {
   "cell_type": "markdown",
   "metadata": {},
   "source": [
    "When picking distinct objects and arranging them there are two scenarios to\n",
    "consider: **order important** and **order unimportant.**\n",
    "\n",
    "**Permutation:order important** If we pick the\n",
    "letters a, b, and c. We can pick three letters and count the number of unique\n",
    "ways we can arrange them. In this case order is important and\n",
    "the results is the six combinations: abc, acb, bca, bac, cab, and cba. There are a\n",
    "total of 3!=3*2*1=6 possible permutations of arranging three distinct letters in\n",
    "groups of 3. \n",
    "\n",
    "**Combination: order unimportant**  In the case of\n",
    "the letters a, b, c what if all we want to know is how many ways we can select 2\n",
    "out of 3 letters, regardless of order? In this case the answer is 3 because it\n",
    "doesn’t matter whether the order of the letters is ab or ba or any of the other\n",
    "combinations of two letters. The outcome will be ab(ba), ac(ca) or bc(cb). \n",
    "\n",
    "However if we were to find out the same in the case of permutations, it will be 6 as order would become important. "
   ]
  },
  {
   "cell_type": "markdown",
   "metadata": {},
   "source": [
    "**Why is learning Permutation and combination important in Probability?**\n",
    "\n",
    "In case of small sample space, we can individually count the likelihood of any event but in case of large sample space, it will become virtually impossible to count the events.This would hinder in finding out probability of any event when sample space is large. \n",
    "\n",
    "Please practice problems here: https://www.toppr.com/guides/quantitative-aptitude/permutation-and-combination/\n",
    "\n",
    "Make sure you practice these problems before moving ahead as this topic is crucial in understanding rest of the topics. Please solve 3 questions from each topic mentioned in the link. "
   ]
  },
  {
   "cell_type": "markdown",
   "metadata": {},
   "source": [
    "## Probability distribution function\n",
    "\n",
    "After reading about random variable, it is important for us to read about Probability distribution function. \n",
    "\n",
    "This function is called a **probability mass function** in the case of a discrete random\n",
    "variable or **probability density function** in the case of a continuous random\n",
    "variable. \n",
    "\n",
    "The distribution function is used to model how the outcome\n",
    "probabilities are associated with the values of the random variable. \n",
    "\n",
    "In addition\n",
    "all random variables (discrete and continuous) have a **cumulative distribution\n",
    "function, or CDF**. The CDF is a function giving the probability that the random\n",
    "variable X is less than or equal to x, for every value x, and models the\n",
    "accumulated probability up to that value. \n",
    "\n",
    "**We will read about various distributions in this week module in detail.**"
   ]
  },
  {
   "cell_type": "markdown",
   "metadata": {},
   "source": [
    "Different random variables have different probability distributions. There are myriad of possibilities that can ha\n",
    "there are infinitely many possible probability distributions, but some common\n",
    "forms appear over and over again in practical applications. "
   ]
  },
  {
   "cell_type": "markdown",
   "metadata": {},
   "source": [
    "### Univariate Discrete Distributions\n",
    "\n",
    "Univariate discrete distributions are standard probability models that utilize a\n",
    "discrete random variable to define the outcomes of an experiment. \n",
    "Two basic models that we will discuss here are **the binomial\n",
    "model and the related Poisson model.**\n",
    "\n",
    "#### **Binomial Distribution**\n",
    "\n",
    "The foundation for the binomial distribution is the Bernoulli random variable. \n",
    "\n",
    "A\n",
    "Bernoulli random variable arises in an experiment where there are only two\n",
    "outcomes which are known as **“success” and “failure”**. \n",
    "For the success\n",
    "outcome the value of the random variable is assigned the value 1, and for the\n",
    "failure outcome the value of the random variable is assigned the value 0. The\n",
    "probability of success is a value p, a proportion between 0 and 1. The\n",
    "probability of failure (using the law that probability adds to 1 and that the\n",
    "complement probability is 1-probablity of all other events) is 1-p. \n",
    "\n",
    "For example, when you flip a coin, it will be a success and when you get a tail it will be a failure and written as:\n",
    "\n",
    "P(X=1)=0.5 which is p \n",
    "\n",
    "P(X=0)=0.5 which is q\n",
    "\n",
    "The image below shows probability distribution for a single event of flipping a coin. \n"
   ]
  },
  {
   "cell_type": "code",
   "execution_count": 3,
   "metadata": {},
   "outputs": [
    {
     "data": {
      "image/png": "[encoded data removed]"
     },
     "metadata": {},
     "output_type": "display_data"
    }
   ],
   "source": [
    "library(\"IRdisplay\")\n",
    "display_png(file=\"C:\\\\Users\\\\shash\\\\Desktop\\\\R assignment\\\\csm_Image-01-No.-of-Heads-from-1-Coin-Toss_b04b53be58.gif\")  "
   ]
  },
  {
   "cell_type": "markdown",
   "metadata": {},
   "source": [
    "The above case was oversimplified where he had one trial and wanted only a head. If we were to repeat this event n times and desired a head let's say x times, then the method of finding the probability distribution would become complex. In such a scenario, we will be needing a proper formulae for this. Permutation and combination that we practiced before becomes handy in understanding how binomial distribution will be worked out in case of a lot of trials.  "
   ]
  },
  {
   "cell_type": "code",
   "execution_count": 4,
   "metadata": {},
   "outputs": [
    {
     "data": {
      "image/png": "[encoded data removed]"
     },
     "metadata": {},
     "output_type": "display_data"
    }
   ],
   "source": [
    "library(\"IRdisplay\")\n",
    "display_png(file=\"C:\\\\Users\\\\shash\\\\Desktop\\\\R assignment\\\\Binomial probability distribution Formula.png\") "
   ]
  },
  {
   "cell_type": "markdown",
   "metadata": {},
   "source": [
    "#### Solve these questions before you proceed further:\n",
    "\n",
    "1. For a roll of a dice, find the probability of getting a 3, 2 timeson the dice on 4 trials\n",
    "2. For a roll of a dice, find the probability of getting either 4 or 6 all the 4 times on the dice on 4 trials.\n"
   ]
  },
  {
   "cell_type": "markdown",
   "metadata": {},
   "source": [
    "Let us solve the first question with the help of R:"
   ]
  },
  {
   "cell_type": "code",
   "execution_count": 8,
   "metadata": {},
   "outputs": [
    {
     "data": {
      "text/html": [
       "0.115666671113482"
      ],
      "text/latex": [
       "0.115666671113482"
      ],
      "text/markdown": [
       "0.115666671113482"
      ],
      "text/plain": [
       "[1] 0.1156667"
      ]
     },
     "metadata": {},
     "output_type": "display_data"
    }
   ],
   "source": [
    "dbinom(2, size=4, prob=0.166)"
   ]
  },
  {
   "cell_type": "markdown",
   "metadata": {},
   "source": [
    "In the second problem, we will have to find the probability for getting 4 or 6 and add all these together."
   ]
  },
  {
   "cell_type": "code",
   "execution_count": 24,
   "metadata": {},
   "outputs": [
    {
     "data": {
      "text/html": [
       "0.001518666272"
      ],
      "text/latex": [
       "0.001518666272"
      ],
      "text/markdown": [
       "0.001518666272"
      ],
      "text/plain": [
       "[1] 0.001518666"
      ]
     },
     "metadata": {},
     "output_type": "display_data"
    }
   ],
   "source": [
    "dbinom(4, size=4, prob=0.166) +\n",
    "+ dbinom(4, size=4, prob=0.166)"
   ]
  },
  {
   "cell_type": "markdown",
   "metadata": {},
   "source": [
    "## The Poisson Distribution\n",
    "\n",
    "The next discrete univariate distribution that we will discuss is the Poisson\n",
    "distribution, named after Simeon D. Poisson. The Poisson is one of the most\n",
    "utilized discrete probability distributions. Mathematically the Poisson is\n",
    "actually a limiting case of the binomial.\n",
    "\n",
    "**The Poisson distribution tells us the distribution of events per\n",
    "unit of time or space, when we sample many such units.** It is useful when addressing\n",
    "queuing questions like “how much capacity do we need to be 95% sure of fully pro‐\n",
    "cessing the internet traffic that arrives on a server in any 5 second period.”\n",
    "The key parameter in a Poisson distribution is λ, or lambda. This is the mean number\n",
    "of events that occurs in a specified interval of time or space. \n",
    "\n",
    "Simple real world examples which may use a Poisson model\n",
    "include the number of typing errors on a page, the number of accidents\n",
    "occurring at an intersection in a given time period and the number of discarded\n",
    "products made by a manufacturing process. The formula for poisson distribution is:"
   ]
  },
  {
   "cell_type": "code",
   "execution_count": 32,
   "metadata": {},
   "outputs": [
    {
     "data": {
      "image/png": "[encoded data removed]"
     },
     "metadata": {},
     "output_type": "display_data"
    }
   ],
   "source": [
    "library(\"IRdisplay\")\n",
    "display_png(file=\"C:\\\\Users\\\\shash\\\\Desktop\\\\R assignment\\\\xpoisson-distribution-formula.png.pagespeed.ic.s5RE-oEm0q.png\") "
   ]
  },
  {
   "cell_type": "markdown",
   "metadata": {},
   "source": [
    "I am going to explain it with an example. Let us suppose we have a collection of 10,000 bulbs and 4 bulbs are faulty are this collection of 10,000 blubs which means our success rate (finding a faulty bulb) will be 5/10,000. Now, we have to find the probability of finding 2 faulty bulbs in 2,000 bulbls. We will do such question with help of poisson distribution formula. \n",
    "\n",
    "In this question, instead of faulty bulbs number, there can also be time contraint like 10,000 blubs produced in 120 minutes then find probability of producing 2,000 blubs in 20 minutes. Questions like these. \n",
    "\n",
    "Anyways, for the given case, lamba will be equal to n*p=2,000*(4/10,000)\n",
    "\n",
    "**Let's find the probability using R:**"
   ]
  },
  {
   "cell_type": "code",
   "execution_count": 33,
   "metadata": {},
   "outputs": [
    {
     "data": {
      "text/html": [
       "0.143785268517511"
      ],
      "text/latex": [
       "0.143785268517511"
      ],
      "text/markdown": [
       "0.143785268517511"
      ],
      "text/plain": [
       "[1] 0.1437853"
      ]
     },
     "metadata": {},
     "output_type": "display_data"
    }
   ],
   "source": [
    "dpois(2,0.8) "
   ]
  },
  {
   "cell_type": "markdown",
   "metadata": {},
   "source": [
    "This is all for week 1, no submission is required for the questions provided, please ask if you are not able to solve. \n",
    "    \n",
    "For week 2, we will be covering EDA in detail and we will be reading the most important distribution function, that of the continuous variable: Normal or Gaussian distribution. See you in the next week! "
   ]
  }
 ],
 "metadata": {
  "kernelspec": {
   "display_name": "R",
   "language": "R",
   "name": "ir"
  },
  "language_info": {
   "codemirror_mode": "r",
   "file_extension": ".r",
   "mimetype": "text/x-r-source",
   "name": "R",
   "pygments_lexer": "r",
   "version": "3.6.1"
  }
 },
 "nbformat": 4,
 "nbformat_minor": 4
}
